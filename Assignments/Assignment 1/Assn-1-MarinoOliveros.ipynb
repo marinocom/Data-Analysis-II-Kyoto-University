{
 "cells": [
  {
   "cell_type": "markdown",
   "id": "2a7ddae6",
   "metadata": {},
   "source": [
    "# Assn-01: My First Jupyter Notebook\n",
    "\n",
    "**Goal:** Use Jupyter to create an empty notebook, then reproduce the contents of this notebook as closely as __possible__."
   ]
  },
  {
   "cell_type": "markdown",
   "id": "3b14818c",
   "metadata": {},
   "source": [
    "***"
   ]
  },
  {
   "cell_type": "markdown",
   "id": "683a73ff",
   "metadata": {},
   "source": [
    "# (1) Text\n",
    "\n",
    "It is easy to write in Markdown using __italics__ and **bold.**\n",
    "\n",
    "It is also easy to ~~cross out~~ words.\n",
    "\n",
    "マークダウンの欄では日本語もできます"
   ]
  },
  {
   "cell_type": "markdown",
   "id": "4b2ce72a",
   "metadata": {},
   "source": [
    "***"
   ]
  },
  {
   "cell_type": "markdown",
   "id": "1bfefde2",
   "metadata": {},
   "source": [
    "# (2) Headings\n",
    "## This is a Heading (Level 2)\n",
    "### This is a Heading (Level 3)\n",
    "#### This is a Heading (Level 4)"
   ]
  },
  {
   "cell_type": "markdown",
   "id": "e671ae6d",
   "metadata": {},
   "source": [
    "# (3) Decorations\n",
    "\n",
    "Type \"___\" to display a horizontal line:"
   ]
  },
  {
   "cell_type": "markdown",
   "id": "467fe809",
   "metadata": {},
   "source": [
    "***"
   ]
  },
  {
   "cell_type": "markdown",
   "id": "3c5ea53e",
   "metadata": {},
   "source": [
    "# (4) Lists\n",
    "\n",
    "This is a numbered list:\n",
    "\n",
    "1. This is the first item\n",
    "2. This is the second item\n",
    "3. This is the third item\n",
    "\n",
    "This is a normal list:\n",
    "\n",
    "- This is the first item\n",
    "- This is the second item\n",
    "- This is the third item"
   ]
  },
  {
   "cell_type": "markdown",
   "id": "1834ff43",
   "metadata": {},
   "source": [
    "***"
   ]
  },
  {
   "cell_type": "markdown",
   "id": "75019a80",
   "metadata": {},
   "source": [
    "# (5) Tables\n",
    "This is a table:\n",
    "\n",
    "| Row    | Column 1 | Column 2| \n",
    "| -------- | ------- | -------|\n",
    "| 1  | Cell (1,1)    | Cell (1,2)|\n",
    "| 2 | Cell (2,1)     | Cell (2,2)|\n",
    "| 3    | Cell (3,1)    | Cell (3,2)|\n",
    "\n"
   ]
  },
  {
   "cell_type": "markdown",
   "id": "84fff06c",
   "metadata": {},
   "source": [
    "***"
   ]
  },
  {
   "cell_type": "markdown",
   "id": "13aa7421",
   "metadata": {},
   "source": [
    "# (6) Links\n",
    "\n",
    "Here is a link to a Markdown guide: https://guides.github.com/features/mastering-markdown/\n",
    "\n",
    "[Here is the same link](https://guides.github.com/features/mastering-markdown/) (with the web address hidden)"
   ]
  },
  {
   "cell_type": "markdown",
   "id": "c1fa7cfe",
   "metadata": {},
   "source": [
    "____"
   ]
  },
  {
   "cell_type": "markdown",
   "id": "88434477",
   "metadata": {},
   "source": [
    "# (7) images\n",
    "\n",
    "Here is this course's logo: \"logo.jpg\"\n",
    "\n",
    "![alt text](logo.jpg)"
   ]
  },
  {
   "cell_type": "markdown",
   "id": "02c170c5",
   "metadata": {},
   "source": [
    "____"
   ]
  },
  {
   "cell_type": "markdown",
   "id": "63a2e7eb",
   "metadata": {},
   "source": [
    "# (8) Python\n",
    "\n",
    "Python commands can be run directly in Jupyter notebooks."
   ]
  },
  {
   "cell_type": "code",
   "execution_count": 9,
   "id": "89c8b91b",
   "metadata": {},
   "outputs": [
    {
     "name": "stdout",
     "output_type": "stream",
     "text": [
      "Hello world!\n"
     ]
    }
   ],
   "source": [
    "print('Hello world!')"
   ]
  },
  {
   "cell_type": "markdown",
   "id": "980d30c6",
   "metadata": {},
   "source": [
    "____"
   ]
  },
  {
   "cell_type": "markdown",
   "id": "a2fa9639",
   "metadata": {},
   "source": [
    "# Bonus!\n",
    "Create a [link](#4-lists) that will take you to the \"Lists\" section above."
   ]
  }
 ],
 "metadata": {
  "kernelspec": {
   "display_name": "collegeEnv",
   "language": "python",
   "name": "python3"
  },
  "language_info": {
   "codemirror_mode": {
    "name": "ipython",
    "version": 3
   },
   "file_extension": ".py",
   "mimetype": "text/x-python",
   "name": "python",
   "nbconvert_exporter": "python",
   "pygments_lexer": "ipython3",
   "version": "3.10.13"
  }
 },
 "nbformat": 4,
 "nbformat_minor": 5
}
