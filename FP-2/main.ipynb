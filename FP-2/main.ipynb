{
 "cells": [
  {
   "cell_type": "markdown",
   "id": "9f77d37e-0904-43e5-9031-60804538422f",
   "metadata": {},
   "source": [
    "# main.ipynb\n",
    "\n",
    "This notebook runs the data parsing notebook `parse_data.ipynb` and reports a summary."
   ]
  },
  {
   "cell_type": "code",
   "execution_count": 1,
   "id": "63e1c8f6-8467-43de-a6c9-c9e49e77aa6e",
   "metadata": {},
   "outputs": [
    {
     "name": "stderr",
     "output_type": "stream",
     "text": [
      "/var/folders/7s/p9vc6dt51918j4q47v387x880000gn/T/ipykernel_25568/4076835140.py:3: DtypeWarning: Columns (48,76,77,84,85,92) have mixed types. Specify dtype option on import or set low_memory=False.\n",
      "  df0 = pd.read_csv('/Users/marino/Documents/UAB/Erasmus/Kyoto/Classes/Data Analysis Practice/Final Project/flightData/flight_delays_2024_combined.csv')\n"
     ]
    },
    {
     "name": "stdout",
     "output_type": "stream",
     "text": [
      "ORIGIN AIRPORT COLUMN FOUND: 'Origin'\n",
      "\n",
      "Number of flights from Philadelphia (PHL): 100,635\n",
      "\n",
      "Percentage of total flights: 1.42%\n",
      "\n",
      "TOP 10 ORIGIN AIRPORTS:\n",
      "Origin\n",
      "ATL    341910\n",
      "DFW    313582\n",
      "DEN    308645\n",
      "ORD    280052\n",
      "CLT    217555\n",
      "LAX    194053\n",
      "PHX    193551\n",
      "LAS    189252\n",
      "SEA    163724\n",
      "LGA    162432\n",
      "Name: count, dtype: int64\n"
     ]
    }
   ],
   "source": [
    "%run parse_data.ipynb"
   ]
  },
  {
   "cell_type": "code",
   "execution_count": 2,
   "id": "fe818edf-8ade-479b-b030-0b6b6f3e011f",
   "metadata": {},
   "outputs": [
    {
     "data": {
      "text/html": [
       "<div>\n",
       "<style scoped>\n",
       "    .dataframe tbody tr th:only-of-type {\n",
       "        vertical-align: middle;\n",
       "    }\n",
       "\n",
       "    .dataframe tbody tr th {\n",
       "        vertical-align: top;\n",
       "    }\n",
       "\n",
       "    .dataframe thead th {\n",
       "        text-align: right;\n",
       "    }\n",
       "</style>\n",
       "<table border=\"1\" class=\"dataframe\">\n",
       "  <thead>\n",
       "    <tr style=\"text-align: right;\">\n",
       "      <th></th>\n",
       "      <th>arrival_delay</th>\n",
       "      <th>departure_delay</th>\n",
       "      <th>day_of_week</th>\n",
       "      <th>scheduled_dep_time</th>\n",
       "      <th>distance</th>\n",
       "      <th>month</th>\n",
       "    </tr>\n",
       "  </thead>\n",
       "  <tbody>\n",
       "    <tr>\n",
       "      <th>count</th>\n",
       "      <td>98710.000000</td>\n",
       "      <td>99123.000000</td>\n",
       "      <td>100635.000000</td>\n",
       "      <td>100635.000000</td>\n",
       "      <td>100635.000000</td>\n",
       "      <td>100635.000000</td>\n",
       "    </tr>\n",
       "    <tr>\n",
       "      <th>mean</th>\n",
       "      <td>8.535498</td>\n",
       "      <td>15.113283</td>\n",
       "      <td>4.001053</td>\n",
       "      <td>1347.374909</td>\n",
       "      <td>890.548060</td>\n",
       "      <td>6.694212</td>\n",
       "    </tr>\n",
       "    <tr>\n",
       "      <th>std</th>\n",
       "      <td>65.515171</td>\n",
       "      <td>63.183139</td>\n",
       "      <td>2.015506</td>\n",
       "      <td>482.392957</td>\n",
       "      <td>597.595095</td>\n",
       "      <td>3.273155</td>\n",
       "    </tr>\n",
       "    <tr>\n",
       "      <th>min</th>\n",
       "      <td>-72.000000</td>\n",
       "      <td>-36.000000</td>\n",
       "      <td>1.000000</td>\n",
       "      <td>107.000000</td>\n",
       "      <td>36.000000</td>\n",
       "      <td>1.000000</td>\n",
       "    </tr>\n",
       "    <tr>\n",
       "      <th>25%</th>\n",
       "      <td>-18.000000</td>\n",
       "      <td>-6.000000</td>\n",
       "      <td>2.000000</td>\n",
       "      <td>909.000000</td>\n",
       "      <td>453.000000</td>\n",
       "      <td>4.000000</td>\n",
       "    </tr>\n",
       "    <tr>\n",
       "      <th>50%</th>\n",
       "      <td>-8.000000</td>\n",
       "      <td>-2.000000</td>\n",
       "      <td>4.000000</td>\n",
       "      <td>1345.000000</td>\n",
       "      <td>678.000000</td>\n",
       "      <td>7.000000</td>\n",
       "    </tr>\n",
       "    <tr>\n",
       "      <th>75%</th>\n",
       "      <td>11.000000</td>\n",
       "      <td>10.000000</td>\n",
       "      <td>6.000000</td>\n",
       "      <td>1832.000000</td>\n",
       "      <td>1013.000000</td>\n",
       "      <td>9.000000</td>\n",
       "    </tr>\n",
       "    <tr>\n",
       "      <th>max</th>\n",
       "      <td>2189.000000</td>\n",
       "      <td>2204.000000</td>\n",
       "      <td>7.000000</td>\n",
       "      <td>2359.000000</td>\n",
       "      <td>2521.000000</td>\n",
       "      <td>12.000000</td>\n",
       "    </tr>\n",
       "  </tbody>\n",
       "</table>\n",
       "</div>"
      ],
      "text/plain": [
       "       arrival_delay  departure_delay    day_of_week  scheduled_dep_time  \\\n",
       "count   98710.000000     99123.000000  100635.000000       100635.000000   \n",
       "mean        8.535498        15.113283       4.001053         1347.374909   \n",
       "std        65.515171        63.183139       2.015506          482.392957   \n",
       "min       -72.000000       -36.000000       1.000000          107.000000   \n",
       "25%       -18.000000        -6.000000       2.000000          909.000000   \n",
       "50%        -8.000000        -2.000000       4.000000         1345.000000   \n",
       "75%        11.000000        10.000000       6.000000         1832.000000   \n",
       "max      2189.000000      2204.000000       7.000000         2359.000000   \n",
       "\n",
       "            distance          month  \n",
       "count  100635.000000  100635.000000  \n",
       "mean      890.548060       6.694212  \n",
       "std       597.595095       3.273155  \n",
       "min        36.000000       1.000000  \n",
       "25%       453.000000       4.000000  \n",
       "50%       678.000000       7.000000  \n",
       "75%      1013.000000       9.000000  \n",
       "max      2521.000000      12.000000  "
      ]
     },
     "execution_count": 2,
     "metadata": {},
     "output_type": "execute_result"
    }
   ],
   "source": [
    "df.describe()"
   ]
  }
 ],
 "metadata": {
  "kernelspec": {
   "display_name": "collegeEnv",
   "language": "python",
   "name": "python3"
  },
  "language_info": {
   "codemirror_mode": {
    "name": "ipython",
    "version": 3
   },
   "file_extension": ".py",
   "mimetype": "text/x-python",
   "name": "python",
   "nbconvert_exporter": "python",
   "pygments_lexer": "ipython3",
   "version": "3.10.13"
  }
 },
 "nbformat": 4,
 "nbformat_minor": 5
}
